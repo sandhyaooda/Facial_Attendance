{
 "cells": [
  {
   "cell_type": "code",
   "execution_count": 1,
   "id": "ba9f5c76-64f1-4504-904c-7bebbe4737d2",
   "metadata": {},
   "outputs": [
    {
     "name": "stdout",
     "output_type": "stream",
     "text": [
      "Microsoft Windows [Version 10.0.19045.6093]\n",
      "(c) Microsoft Corporation. All rights reserved.\n",
      "\n",
      "C:\\Users\\Admin\\Downloads\\techwing project>where python\n",
      "C:\\Users\\Admin\\anaconda3\\python.exe\n",
      "C:\\Users\\Admin\\AppData\\Local\\Programs\\Python\\Python312\\python.exe\n",
      "C:\\Users\\Admin\\AppData\\Local\\Microsoft\\WindowsApps\\python.exe\n",
      "\n",
      "C:\\Users\\Admin\\Downloads\\techwing project>"
     ]
    }
   ],
   "source": [
    "%%cmd\n",
    "where python"
   ]
  },
  {
   "cell_type": "code",
   "execution_count": 2,
   "id": "22ea64e5-2379-4c62-bf8d-52710846a378",
   "metadata": {},
   "outputs": [
    {
     "name": "stdout",
     "output_type": "stream",
     "text": [
      "Requirement already satisfied: opencv-python in c:\\users\\admin\\anaconda3\\lib\\site-packages (4.12.0.88)\n",
      "Requirement already satisfied: numpy<2.3.0,>=2 in c:\\users\\admin\\anaconda3\\lib\\site-packages (from opencv-python) (2.2.6)\n",
      "Note: you may need to restart the kernel to use updated packages.\n"
     ]
    }
   ],
   "source": [
    "pip install opencv-python"
   ]
  },
  {
   "cell_type": "code",
   "execution_count": 3,
   "id": "f1b626f6-c12f-4ac1-87b7-9426240c108f",
   "metadata": {},
   "outputs": [],
   "source": [
    "import cv2"
   ]
  },
  {
   "cell_type": "code",
   "execution_count": 6,
   "id": "b3ec4b2c-0a14-419a-9e3f-00e0efa484b5",
   "metadata": {},
   "outputs": [
    {
     "name": "stdout",
     "output_type": "stream",
     "text": [
      "cmake version 4.0.3\n",
      "\n",
      "CMake suite maintained and supported by Kitware (kitware.com/cmake).\n"
     ]
    }
   ],
   "source": [
    "!cmake --version"
   ]
  },
  {
   "cell_type": "code",
   "execution_count": 9,
   "id": "b3c06e16-a3ee-4bdc-b6d2-6174be8ba4cd",
   "metadata": {},
   "outputs": [
    {
     "name": "stdout",
     "output_type": "stream",
     "text": [
      "Microsoft Windows [Version 10.0.19045.6093]\n",
      "(c) Microsoft Corporation. All rights reserved.\n",
      "\n",
      "C:\\Users\\Admin\\Downloads\\techwing project>pip install face-recognition\n",
      "Collecting face-recognition\n",
      "  Using cached face_recognition-1.3.0-py2.py3-none-any.whl.metadata (21 kB)\n",
      "Collecting face-recognition-models>=0.3.0 (from face-recognition)\n",
      "  Using cached face_recognition_models-0.3.0-py2.py3-none-any.whl\n",
      "Requirement already satisfied: Click>=6.0 in c:\\users\\admin\\anaconda3\\lib\\site-packages (from face-recognition) (8.1.7)\n",
      "Requirement already satisfied: dlib>=19.7 in c:\\users\\admin\\anaconda3\\lib\\site-packages (from face-recognition) (20.0.0)\n",
      "Requirement already satisfied: numpy in c:\\users\\admin\\anaconda3\\lib\\site-packages (from face-recognition) (2.2.6)\n",
      "Requirement already satisfied: Pillow in c:\\users\\admin\\anaconda3\\lib\\site-packages (from face-recognition) (10.3.0)\n",
      "Requirement already satisfied: colorama in c:\\users\\admin\\anaconda3\\lib\\site-packages (from Click>=6.0->face-recognition) (0.4.6)\n",
      "Using cached face_recognition-1.3.0-py2.py3-none-any.whl (15 kB)\n",
      "Installing collected packages: face-recognition-models, face-recognition\n",
      "Successfully installed face-recognition-1.3.0 face-recognition-models-0.3.0\n",
      "\n",
      "C:\\Users\\Admin\\Downloads\\techwing project>"
     ]
    }
   ],
   "source": [
    "%%cmd\n",
    "pip install face-recognition"
   ]
  },
  {
   "cell_type": "code",
   "execution_count": 10,
   "id": "1d21e208-ff93-4181-8d93-18f65ff5b9dd",
   "metadata": {},
   "outputs": [
    {
     "name": "stdout",
     "output_type": "stream",
     "text": [
      "Microsoft Windows [Version 10.0.19045.6093]\n",
      "(c) Microsoft Corporation. All rights reserved.\n",
      "\n",
      "C:\\Users\\Admin\\Downloads\\techwing project>pip install cmake\n",
      "Collecting cmake\n",
      "  Downloading cmake-4.1.0-py3-none-win_amd64.whl.metadata (6.5 kB)\n",
      "Downloading cmake-4.1.0-py3-none-win_amd64.whl (37.6 MB)\n",
      "   ---------------------------------------- 37.6/37.6 MB 167.1 kB/s eta 0:00:00 0:00:17\n",
      "Installing collected packages: cmake\n",
      "Successfully installed cmake-4.1.0\n",
      "\n",
      "C:\\Users\\Admin\\Downloads\\techwing project>"
     ]
    }
   ],
   "source": [
    "%%cmd\n",
    "pip install cmake"
   ]
  },
  {
   "cell_type": "code",
   "execution_count": 11,
   "id": "87d578b1-362a-438f-9b74-92aaaf95b120",
   "metadata": {},
   "outputs": [
    {
     "name": "stdout",
     "output_type": "stream",
     "text": [
      "Microsoft Windows [Version 10.0.19045.6093]\n",
      "(c) Microsoft Corporation. All rights reserved.\n",
      "\n",
      "C:\\Users\\Admin\\Downloads\\techwing project>python --version\n",
      "Python 3.12.4\n",
      "\n",
      "C:\\Users\\Admin\\Downloads\\techwing project>"
     ]
    }
   ],
   "source": [
    "%%cmd\n",
    "python --version"
   ]
  },
  {
   "cell_type": "code",
   "execution_count": 12,
   "id": "0f6e5e72-6bac-40ee-83c9-0cff65ddc5a4",
   "metadata": {},
   "outputs": [
    {
     "name": "stdout",
     "output_type": "stream",
     "text": [
      "Microsoft Windows [Version 10.0.19045.6093]\n",
      "(c) Microsoft Corporation. All rights reserved.\n",
      "\n",
      "C:\\Users\\Admin\\Downloads\\techwing project>pip install face-recognition\n",
      "Requirement already satisfied: face-recognition in c:\\users\\admin\\anaconda3\\lib\\site-packages (1.3.0)\n",
      "Requirement already satisfied: face-recognition-models>=0.3.0 in c:\\users\\admin\\anaconda3\\lib\\site-packages (from face-recognition) (0.3.0)\n",
      "Requirement already satisfied: Click>=6.0 in c:\\users\\admin\\anaconda3\\lib\\site-packages (from face-recognition) (8.1.7)\n",
      "Requirement already satisfied: dlib>=19.7 in c:\\users\\admin\\anaconda3\\lib\\site-packages (from face-recognition) (20.0.0)\n",
      "Requirement already satisfied: numpy in c:\\users\\admin\\anaconda3\\lib\\site-packages (from face-recognition) (2.2.6)\n",
      "Requirement already satisfied: Pillow in c:\\users\\admin\\anaconda3\\lib\\site-packages (from face-recognition) (10.3.0)\n",
      "Requirement already satisfied: colorama in c:\\users\\admin\\anaconda3\\lib\\site-packages (from Click>=6.0->face-recognition) (0.4.6)\n",
      "\n",
      "C:\\Users\\Admin\\Downloads\\techwing project>"
     ]
    }
   ],
   "source": [
    "%%cmd\n",
    "pip install face-recognition"
   ]
  },
  {
   "cell_type": "code",
   "execution_count": 14,
   "id": "efa19261-d531-419c-9051-33263f132973",
   "metadata": {},
   "outputs": [
    {
     "name": "stdout",
     "output_type": "stream",
     "text": [
      "Requirement already satisfied: boto3 in c:\\users\\admin\\anaconda3\\lib\\site-packages (1.40.7)\n",
      "Collecting botocore<1.41.0,>=1.40.7 (from boto3)\n",
      "  Using cached botocore-1.40.7-py3-none-any.whl.metadata (5.7 kB)\n",
      "Requirement already satisfied: jmespath<2.0.0,>=0.7.1 in c:\\users\\admin\\anaconda3\\lib\\site-packages (from boto3) (1.0.1)\n",
      "Requirement already satisfied: s3transfer<0.14.0,>=0.13.0 in c:\\users\\admin\\anaconda3\\lib\\site-packages (from boto3) (0.13.1)\n",
      "Requirement already satisfied: python-dateutil<3.0.0,>=2.1 in c:\\users\\admin\\anaconda3\\lib\\site-packages (from botocore<1.41.0,>=1.40.7->boto3) (2.9.0.post0)\n",
      "Requirement already satisfied: urllib3!=2.2.0,<3,>=1.25.4 in c:\\users\\admin\\anaconda3\\lib\\site-packages (from botocore<1.41.0,>=1.40.7->boto3) (2.2.2)\n",
      "Requirement already satisfied: six>=1.5 in c:\\users\\admin\\anaconda3\\lib\\site-packages (from python-dateutil<3.0.0,>=2.1->botocore<1.41.0,>=1.40.7->boto3) (1.16.0)\n",
      "Using cached botocore-1.40.7-py3-none-any.whl (14.0 MB)\n",
      "Installing collected packages: botocore\n",
      "  Attempting uninstall: botocore\n",
      "    Found existing installation: botocore 1.39.11\n",
      "    Uninstalling botocore-1.39.11:\n",
      "      Successfully uninstalled botocore-1.39.11\n",
      "Successfully installed botocore-1.40.7\n"
     ]
    },
    {
     "name": "stderr",
     "output_type": "stream",
     "text": [
      "ERROR: pip's dependency resolver does not currently take into account all the packages that are installed. This behaviour is the source of the following dependency conflicts.\n",
      "aiobotocore 2.24.0 requires botocore<1.39.12,>=1.39.9, but you have botocore 1.40.7 which is incompatible.\n"
     ]
    }
   ],
   "source": [
    "!pip install boto3"
   ]
  },
  {
   "cell_type": "code",
   "execution_count": 15,
   "id": "bad6c6ee-0daf-4a2d-9cce-c8ef8bd4c442",
   "metadata": {},
   "outputs": [
    {
     "name": "stdout",
     "output_type": "stream",
     "text": [
      "Requirement already satisfied: opencv-python in c:\\users\\admin\\anaconda3\\lib\\site-packages (4.12.0.88)\n",
      "Requirement already satisfied: face-recognition in c:\\users\\admin\\anaconda3\\lib\\site-packages (1.3.0)\n",
      "Requirement already satisfied: pandas in c:\\users\\admin\\anaconda3\\lib\\site-packages (2.2.2)\n",
      "Requirement already satisfied: gspread in c:\\users\\admin\\anaconda3\\lib\\site-packages (6.1.4)\n",
      "Requirement already satisfied: oauth2client in c:\\users\\admin\\anaconda3\\lib\\site-packages (4.1.3)\n",
      "Collecting numpy<2.3.0,>=2 (from opencv-python)\n",
      "  Using cached numpy-2.2.6-cp312-cp312-win_amd64.whl.metadata (60 kB)\n",
      "Requirement already satisfied: face-recognition-models>=0.3.0 in c:\\users\\admin\\anaconda3\\lib\\site-packages (from face-recognition) (0.3.0)\n",
      "Requirement already satisfied: Click>=6.0 in c:\\users\\admin\\anaconda3\\lib\\site-packages (from face-recognition) (8.1.7)\n",
      "Requirement already satisfied: dlib>=19.7 in c:\\users\\admin\\anaconda3\\lib\\site-packages (from face-recognition) (20.0.0)\n",
      "Requirement already satisfied: Pillow in c:\\users\\admin\\anaconda3\\lib\\site-packages (from face-recognition) (10.3.0)\n",
      "Requirement already satisfied: python-dateutil>=2.8.2 in c:\\users\\admin\\anaconda3\\lib\\site-packages (from pandas) (2.9.0.post0)\n",
      "Requirement already satisfied: pytz>=2020.1 in c:\\users\\admin\\anaconda3\\lib\\site-packages (from pandas) (2024.1)\n",
      "Requirement already satisfied: tzdata>=2022.7 in c:\\users\\admin\\anaconda3\\lib\\site-packages (from pandas) (2023.3)\n",
      "Requirement already satisfied: google-auth>=1.12.0 in c:\\users\\admin\\anaconda3\\lib\\site-packages (from gspread) (2.38.0)\n",
      "Requirement already satisfied: google-auth-oauthlib>=0.4.1 in c:\\users\\admin\\anaconda3\\lib\\site-packages (from gspread) (1.2.1)\n",
      "Requirement already satisfied: httplib2>=0.9.1 in c:\\users\\admin\\anaconda3\\lib\\site-packages (from oauth2client) (0.22.0)\n",
      "Requirement already satisfied: pyasn1>=0.1.7 in c:\\users\\admin\\anaconda3\\lib\\site-packages (from oauth2client) (0.4.8)\n",
      "Requirement already satisfied: pyasn1-modules>=0.0.5 in c:\\users\\admin\\anaconda3\\lib\\site-packages (from oauth2client) (0.2.8)\n",
      "Requirement already satisfied: rsa>=3.1.4 in c:\\users\\admin\\anaconda3\\lib\\site-packages (from oauth2client) (4.9)\n",
      "Requirement already satisfied: six>=1.6.1 in c:\\users\\admin\\anaconda3\\lib\\site-packages (from oauth2client) (1.17.0)\n",
      "Requirement already satisfied: colorama in c:\\users\\admin\\anaconda3\\lib\\site-packages (from Click>=6.0->face-recognition) (0.4.6)\n",
      "Requirement already satisfied: cachetools<6.0,>=2.0.0 in c:\\users\\admin\\anaconda3\\lib\\site-packages (from google-auth>=1.12.0->gspread) (5.3.3)\n",
      "Requirement already satisfied: requests-oauthlib>=0.7.0 in c:\\users\\admin\\anaconda3\\lib\\site-packages (from google-auth-oauthlib>=0.4.1->gspread) (2.0.0)\n",
      "Requirement already satisfied: pyparsing!=3.0.0,!=3.0.1,!=3.0.2,!=3.0.3,<4,>=2.4.2 in c:\\users\\admin\\anaconda3\\lib\\site-packages (from httplib2>=0.9.1->oauth2client) (3.0.9)\n",
      "Requirement already satisfied: oauthlib>=3.0.0 in c:\\users\\admin\\anaconda3\\lib\\site-packages (from requests-oauthlib>=0.7.0->google-auth-oauthlib>=0.4.1->gspread) (3.2.2)\n",
      "Requirement already satisfied: requests>=2.0.0 in c:\\users\\admin\\anaconda3\\lib\\site-packages (from requests-oauthlib>=0.7.0->google-auth-oauthlib>=0.4.1->gspread) (2.32.2)\n",
      "Requirement already satisfied: charset-normalizer<4,>=2 in c:\\users\\admin\\anaconda3\\lib\\site-packages (from requests>=2.0.0->requests-oauthlib>=0.7.0->google-auth-oauthlib>=0.4.1->gspread) (2.0.4)\n",
      "Requirement already satisfied: idna<4,>=2.5 in c:\\users\\admin\\anaconda3\\lib\\site-packages (from requests>=2.0.0->requests-oauthlib>=0.7.0->google-auth-oauthlib>=0.4.1->gspread) (3.7)\n",
      "Requirement already satisfied: urllib3<3,>=1.21.1 in c:\\users\\admin\\anaconda3\\lib\\site-packages (from requests>=2.0.0->requests-oauthlib>=0.7.0->google-auth-oauthlib>=0.4.1->gspread) (2.5.0)\n",
      "Requirement already satisfied: certifi>=2017.4.17 in c:\\users\\admin\\anaconda3\\lib\\site-packages (from requests>=2.0.0->requests-oauthlib>=0.7.0->google-auth-oauthlib>=0.4.1->gspread) (2024.6.2)\n",
      "Using cached numpy-2.2.6-cp312-cp312-win_amd64.whl (12.6 MB)\n",
      "Installing collected packages: numpy\n",
      "  Attempting uninstall: numpy\n",
      "    Found existing installation: numpy 1.26.4\n",
      "    Uninstalling numpy-1.26.4:\n",
      "      Successfully uninstalled numpy-1.26.4\n",
      "Successfully installed numpy-2.2.6\n"
     ]
    },
    {
     "name": "stderr",
     "output_type": "stream",
     "text": [
      "ERROR: pip's dependency resolver does not currently take into account all the packages that are installed. This behaviour is the source of the following dependency conflicts.\n",
      "numba 0.59.1 requires numpy<1.27,>=1.22, but you have numpy 2.2.6 which is incompatible.\n",
      "pywavelets 1.5.0 requires numpy<2.0,>=1.22.4, but you have numpy 2.2.6 which is incompatible.\n",
      "streamlit 1.32.0 requires numpy<2,>=1.19.3, but you have numpy 2.2.6 which is incompatible.\n",
      "tensorflow 2.19.0 requires numpy<2.2.0,>=1.26.0, but you have numpy 2.2.6 which is incompatible.\n"
     ]
    }
   ],
   "source": [
    "!pip install opencv-python face-recognition pandas gspread oauth2client\n",
    "import warnings\n",
    "warnings.filterwarnings(\"ignore\")"
   ]
  },
  {
   "cell_type": "code",
   "execution_count": 1,
   "id": "ba4abe74-384e-4bdf-8870-41fa21e5cbcb",
   "metadata": {},
   "outputs": [],
   "source": [
    "import face_recognition\n",
    "import numpy as np\n",
    "import pandas as pd\n",
    "import cv2\n",
    "import pickle\n",
    "import boto3\n",
    "import os\n",
    "from datetime import datetime"
   ]
  },
  {
   "cell_type": "code",
   "execution_count": 2,
   "id": "78269a36-c306-4981-8b82-20d65ca5f9e6",
   "metadata": {},
   "outputs": [
    {
     "name": "stdout",
     "output_type": "stream",
     "text": [
      "Requirement already satisfied: gspread in c:\\users\\admin\\anaconda3\\lib\\site-packages (6.1.4)\n",
      "Requirement already satisfied: oauth2client in c:\\users\\admin\\anaconda3\\lib\\site-packages (4.1.3)\n",
      "Collecting gspread-dataframe\n",
      "  Downloading gspread_dataframe-4.0.0-py2.py3-none-any.whl.metadata (4.5 kB)\n",
      "Requirement already satisfied: face_recognition in c:\\users\\admin\\anaconda3\\lib\\site-packages (1.3.0)\n",
      "Requirement already satisfied: opencv-python in c:\\users\\admin\\anaconda3\\lib\\site-packages (4.9.0.80)\n",
      "Requirement already satisfied: google-auth>=1.12.0 in c:\\users\\admin\\anaconda3\\lib\\site-packages (from gspread) (2.38.0)\n",
      "Requirement already satisfied: google-auth-oauthlib>=0.4.1 in c:\\users\\admin\\anaconda3\\lib\\site-packages (from gspread) (1.2.1)\n",
      "Requirement already satisfied: httplib2>=0.9.1 in c:\\users\\admin\\anaconda3\\lib\\site-packages (from oauth2client) (0.22.0)\n",
      "Requirement already satisfied: pyasn1>=0.1.7 in c:\\users\\admin\\anaconda3\\lib\\site-packages (from oauth2client) (0.4.8)\n",
      "Requirement already satisfied: pyasn1-modules>=0.0.5 in c:\\users\\admin\\anaconda3\\lib\\site-packages (from oauth2client) (0.2.8)\n",
      "Requirement already satisfied: rsa>=3.1.4 in c:\\users\\admin\\anaconda3\\lib\\site-packages (from oauth2client) (4.9)\n",
      "Requirement already satisfied: six>=1.6.1 in c:\\users\\admin\\anaconda3\\lib\\site-packages (from oauth2client) (1.17.0)\n",
      "Requirement already satisfied: pandas>=0.24.0 in c:\\users\\admin\\anaconda3\\lib\\site-packages (from gspread-dataframe) (2.2.2)\n",
      "Requirement already satisfied: face-recognition-models>=0.3.0 in c:\\users\\admin\\anaconda3\\lib\\site-packages (from face_recognition) (0.3.0)\n",
      "Requirement already satisfied: Click>=6.0 in c:\\users\\admin\\anaconda3\\lib\\site-packages (from face_recognition) (8.1.7)\n",
      "Requirement already satisfied: dlib>=19.7 in c:\\users\\admin\\anaconda3\\lib\\site-packages (from face_recognition) (20.0.0)\n",
      "Requirement already satisfied: numpy in c:\\users\\admin\\anaconda3\\lib\\site-packages (from face_recognition) (1.26.4)\n",
      "Requirement already satisfied: Pillow in c:\\users\\admin\\anaconda3\\lib\\site-packages (from face_recognition) (10.3.0)\n",
      "Requirement already satisfied: colorama in c:\\users\\admin\\anaconda3\\lib\\site-packages (from Click>=6.0->face_recognition) (0.4.6)\n",
      "Requirement already satisfied: cachetools<6.0,>=2.0.0 in c:\\users\\admin\\anaconda3\\lib\\site-packages (from google-auth>=1.12.0->gspread) (5.3.3)\n",
      "Requirement already satisfied: requests-oauthlib>=0.7.0 in c:\\users\\admin\\anaconda3\\lib\\site-packages (from google-auth-oauthlib>=0.4.1->gspread) (2.0.0)\n",
      "Requirement already satisfied: pyparsing!=3.0.0,!=3.0.1,!=3.0.2,!=3.0.3,<4,>=2.4.2 in c:\\users\\admin\\anaconda3\\lib\\site-packages (from httplib2>=0.9.1->oauth2client) (3.0.9)\n",
      "Requirement already satisfied: python-dateutil>=2.8.2 in c:\\users\\admin\\anaconda3\\lib\\site-packages (from pandas>=0.24.0->gspread-dataframe) (2.9.0.post0)\n",
      "Requirement already satisfied: pytz>=2020.1 in c:\\users\\admin\\anaconda3\\lib\\site-packages (from pandas>=0.24.0->gspread-dataframe) (2024.1)\n",
      "Requirement already satisfied: tzdata>=2022.7 in c:\\users\\admin\\anaconda3\\lib\\site-packages (from pandas>=0.24.0->gspread-dataframe) (2023.3)\n",
      "Requirement already satisfied: oauthlib>=3.0.0 in c:\\users\\admin\\anaconda3\\lib\\site-packages (from requests-oauthlib>=0.7.0->google-auth-oauthlib>=0.4.1->gspread) (3.2.2)\n",
      "Requirement already satisfied: requests>=2.0.0 in c:\\users\\admin\\anaconda3\\lib\\site-packages (from requests-oauthlib>=0.7.0->google-auth-oauthlib>=0.4.1->gspread) (2.32.2)\n",
      "Requirement already satisfied: charset-normalizer<4,>=2 in c:\\users\\admin\\anaconda3\\lib\\site-packages (from requests>=2.0.0->requests-oauthlib>=0.7.0->google-auth-oauthlib>=0.4.1->gspread) (2.0.4)\n",
      "Requirement already satisfied: idna<4,>=2.5 in c:\\users\\admin\\anaconda3\\lib\\site-packages (from requests>=2.0.0->requests-oauthlib>=0.7.0->google-auth-oauthlib>=0.4.1->gspread) (3.7)\n",
      "Requirement already satisfied: urllib3<3,>=1.21.1 in c:\\users\\admin\\anaconda3\\lib\\site-packages (from requests>=2.0.0->requests-oauthlib>=0.7.0->google-auth-oauthlib>=0.4.1->gspread) (2.5.0)\n",
      "Requirement already satisfied: certifi>=2017.4.17 in c:\\users\\admin\\anaconda3\\lib\\site-packages (from requests>=2.0.0->requests-oauthlib>=0.7.0->google-auth-oauthlib>=0.4.1->gspread) (2024.6.2)\n",
      "Downloading gspread_dataframe-4.0.0-py2.py3-none-any.whl (9.0 kB)\n",
      "Installing collected packages: gspread-dataframe\n",
      "Successfully installed gspread-dataframe-4.0.0\n",
      "Note: you may need to restart the kernel to use updated packages.\n"
     ]
    }
   ],
   "source": [
    "pip install gspread oauth2client gspread-dataframe face_recognition opencv-python"
   ]
  },
  {
   "cell_type": "code",
   "execution_count": 4,
   "id": "674a215c-640c-4882-b508-2e4d4d9e45bd",
   "metadata": {},
   "outputs": [
    {
     "name": "stdout",
     "output_type": "stream",
     "text": [
      "Training on known faces...\n",
      "Training complete! 95 faces encoded.\n"
     ]
    }
   ],
   "source": [
    "import face_recognition\n",
    "import os\n",
    "import pickle\n",
    "\n",
    "# Define the known faces directory\"C:\\Users\\simma_4uy3cu0\\Downloads\\faces\\Face_Attendance_System\\Images\"\n",
    "KNOWN_FACES_DIR = r\"C:\\Users\\Admin\\Downloads\\techwing project\\Imagess\"\n",
    "face_encodings = []\n",
    "face_names = []\n",
    "\n",
    "print(\"Training on known faces...\")\n",
    "\n",
    "# Loop through each item in the known_faces directory\n",
    "for item in os.listdir(KNOWN_FACES_DIR):\n",
    "    person_path = os.path.join(KNOWN_FACES_DIR, item)\n",
    "\n",
    "    if os.path.isdir(person_path):  \n",
    "        # ✅ If it's a folder, process all images inside it\n",
    "        for image_name in os.listdir(person_path):\n",
    "            image_path = os.path.join(person_path, image_name)\n",
    "            image = face_recognition.load_image_file(image_path)\n",
    "            encodings = face_recognition.face_encodings(image)\n",
    "\n",
    "            if encodings:\n",
    "                face_encodings.append(encodings[0])\n",
    "                face_names.append(item)  # Folder name = person's name\n",
    "    elif os.path.isfile(person_path):  \n",
    "        # ✅ If it's a file, process it directly\n",
    "        name = os.path.splitext(item)[0]  # Use the filename as the person's name\n",
    "        image = face_recognition.load_image_file(person_path)\n",
    "        encodings = face_recognition.face_encodings(image)\n",
    "\n",
    "        if encodings:\n",
    "            face_encodings.append(encodings[0])\n",
    "            face_names.append(name)\n",
    "\n",
    "# Save trained encodings\n",
    "with open(\"face_encodings.pkl\", \"wb\") as f:\n",
    "    pickle.dump((face_encodings, face_names), f)\n",
    "\n",
    "print(f\"Training complete! {len(face_names)} faces encoded.\")"
   ]
  },
  {
   "cell_type": "code",
   "execution_count": 5,
   "id": "fd75eed0-84fa-42d1-b13a-5642732a7ea5",
   "metadata": {},
   "outputs": [],
   "source": [
    "import cv2\n",
    "import numpy as np\n",
    "import gspread\n",
    "from oauth2client.service_account import ServiceAccountCredentials\n",
    "import face_recognition\n",
    "import pickle\n",
    "from datetime import datetime"
   ]
  },
  {
   "cell_type": "code",
   "execution_count": 6,
   "id": "f6c91614-bb28-4b81-a173-04d6acfac706",
   "metadata": {},
   "outputs": [],
   "source": [
    "import gspread\n",
    "from oauth2client.service_account import ServiceAccountCredentials\n",
    "\n",
    "# Define scope\n",
    "scope = [\"https://spreadsheets.google.com/feeds\",\n",
    "         \"https://www.googleapis.com/auth/drive\"]\n",
    "\n",
    "# Load credentials\n",
    "creds = ServiceAccountCredentials.from_json_keyfile_name(\"credentials.json\", scope)\n",
    "\n",
    "# Create client\n",
    "client = gspread.authorize(creds)\n",
    "\n",
    "# Now you can open the sheet\n",
    "sheet = client.open(\"Attendance\").sheet1"
   ]
  },
  {
   "cell_type": "code",
   "execution_count": 7,
   "id": "64bf0c94-d11e-4f02-852c-87b13919157c",
   "metadata": {},
   "outputs": [],
   "source": [
    "import gspread\n",
    "from oauth2client.service_account import ServiceAccountCredentials\n",
    "from datetime import datetime\n",
    "import pickle\n",
    "\n",
    "# Google Sheets API scope\n",
    "scope = [\n",
    "    \"https://spreadsheets.google.com/feeds\",\n",
    "    \"https://www.googleapis.com/auth/spreadsheets\",\n",
    "    \"https://www.googleapis.com/auth/drive\",\n",
    "    \"https://www.googleapis.com/auth/drive.file\"\n",
    "]\n",
    "\n",
    "# Path to your service account credentials\n",
    "creds = ServiceAccountCredentials.from_json_keyfile_name(\n",
    "    r\"C:\\Users\\Admin\\Downloads\\techwing project\\credentials.json\", scope\n",
    ")\n",
    "\n",
    "# Authorize the gspread client\n",
    "client = gspread.authorize(creds)\n",
    "\n",
    "# Open the correct Google Sheet by name (MUST match exactly)\n",
    "SHEET_NAME = \"Attendance\"\n",
    "sheet = client.open(SHEET_NAME).sheet1  # opens the first sheet\n",
    "\n",
    "# Add an attendance row\n",
    "def mark_attendance(name):\n",
    "    now = datetime.now()\n",
    "    date = now.strftime(\"%Y-%m-%d\")\n",
    "    time = now.strftime(\"%H:%M:%S\")\n",
    "\n",
    "    data = [name, date, time]\n",
    "    sheet.append_row(data)\n",
    "    print(f\"Marked attendance: {data}\")"
   ]
  },
  {
   "cell_type": "code",
   "execution_count": 2,
   "id": "44fa80e5-a659-4da9-9311-529074c4f3a6",
   "metadata": {},
   "outputs": [
    {
     "name": "stdout",
     "output_type": "stream",
     "text": [
      "[INFO] Loaded 95 known faces.\n",
      "[INFO] Starting attendance system. Press 'q' to quit.\n",
      "[UNKNOWN ❌] Distance: 0.48\n",
      "[UNKNOWN ❌] Distance: 0.50\n",
      "[UNKNOWN ❌] Distance: 0.51\n",
      "[UNKNOWN ❌] Distance: 0.48\n",
      "[UNKNOWN ❌] Distance: 0.46\n",
      "[UNKNOWN ❌] Distance: 0.48\n",
      "[UNKNOWN ❌] Distance: 0.51\n",
      "[UNKNOWN ❌] Distance: 0.49\n",
      "[UNKNOWN ❌] Distance: 0.48\n",
      "[UNKNOWN ❌] Distance: 0.48\n",
      "[UNKNOWN ❌] Distance: 0.47\n",
      "[UNKNOWN ❌] Distance: 0.47\n",
      "[MATCH ✅] 22551A4432, distance: 0.42\n",
      "[ℹ️] 22551A4432 already marked today. Skipping...\n",
      "[MATCH ✅] 22551A4432, distance: 0.43\n",
      "[ℹ️] 22551A4432 already marked today. Skipping...\n",
      "[MATCH ✅] 22551A4432, distance: 0.42\n",
      "[ℹ️] 22551A4432 already marked today. Skipping...\n"
     ]
    }
   ],
   "source": [
    "import cv2\n",
    "import face_recognition\n",
    "import pickle\n",
    "import gspread\n",
    "from oauth2client.service_account import ServiceAccountCredentials\n",
    "from datetime import datetime\n",
    "\n",
    "# Load known faces\n",
    "with open(\"face_encodings.pkl\", \"rb\") as f:\n",
    "    known_encodings, known_names = pickle.load(f)\n",
    "\n",
    "print(f\"[INFO] Loaded {len(known_names)} known faces.\")\n",
    "\n",
    "# Google Sheets setup\n",
    "scope = [\n",
    "    \"https://spreadsheets.google.com/feeds\",\n",
    "    \"https://www.googleapis.com/auth/spreadsheets\",\n",
    "    \"https://www.googleapis.com/auth/drive\"\n",
    "]\n",
    "creds = ServiceAccountCredentials.from_json_keyfile_name(\n",
    "    r\"C:\\\\Users\\\\Admin\\\\Downloads\\\\techwing project\\\\credentials.json\", scope\n",
    ")\n",
    "client = gspread.authorize(creds)\n",
    "sheet = client.open(\"Attendance\").sheet1\n",
    "\n",
    "def is_already_marked(Student_ID):\n",
    "    records = sheet.get_all_records()\n",
    "    today = datetime.now().strftime(\"%Y-%m-%d\")\n",
    "    return any(\n",
    "        row['Student_ID'] == Student_ID and row['Date'] == today\n",
    "        for row in records\n",
    "    )\n",
    "\n",
    "def mark_attendance(Student_ID):\n",
    "    if not is_already_marked(Student_ID):\n",
    "        now = datetime.now()\n",
    "        sheet.append_row([\n",
    "            Student_ID,\n",
    "            now.strftime(\"%Y-%m-%d\"),  # Date\n",
    "            now.strftime(\"%H:%M:%S\")   # Time\n",
    "        ])\n",
    "        print(f\"[✅] Attendance marked for {Student_ID}\")\n",
    "    else:\n",
    "        print(f\"[ℹ️] {Student_ID} already marked today. Skipping...\")\n",
    "\n",
    "video = cv2.VideoCapture(0)\n",
    "print(\"[INFO] Starting attendance system. Press 'q' to quit.\")\n",
    "\n",
    "while True:\n",
    "    ret, frame = video.read()\n",
    "    if not ret:\n",
    "        break\n",
    "\n",
    "    small_frame = cv2.resize(frame, (0, 0), fx=0.25, fy=0.25)\n",
    "    rgb_small_frame = cv2.cvtColor(small_frame, cv2.COLOR_BGR2RGB)\n",
    "\n",
    "    face_locations = face_recognition.face_locations(rgb_small_frame)\n",
    "    face_encodings = face_recognition.face_encodings(rgb_small_frame, face_locations)\n",
    "\n",
    "    for face_encoding, face_location in zip(face_encodings, face_locations):\n",
    "        distances = face_recognition.face_distance(known_encodings, face_encoding)\n",
    "        min_distance = min(distances)\n",
    "        best_match_index = distances.tolist().index(min_distance)\n",
    "\n",
    "        if min_distance < 0.45:\n",
    "            name = known_names[best_match_index]\n",
    "            print(f\"[MATCH ✅] {name}, distance: {min_distance:.2f}\")\n",
    "            mark_attendance(name)\n",
    "        else:\n",
    "            name = \"Unknown\"\n",
    "            print(f\"[UNKNOWN ❌] Distance: {min_distance:.2f}\")\n",
    "\n",
    "        top, right, bottom, left = [v * 4 for v in face_location]\n",
    "        cv2.rectangle(frame, (left, top), (right, bottom), (0, 255, 0), 2)\n",
    "        cv2.putText(frame, name, (left, top - 10),\n",
    "                    cv2.FONT_HERSHEY_SIMPLEX, 0.9, (0, 255, 0), 2)\n",
    "\n",
    "    cv2.imshow(\"Face Attendance\", frame)\n",
    "\n",
    "    if cv2.waitKey(1) & 0xFF == ord('q'):\n",
    "        break\n",
    "\n",
    "video.release()\n",
    "cv2.destroyAllWindows()"
   ]
  },
  {
   "cell_type": "code",
   "execution_count": null,
   "id": "6fa25762-aeb1-4b43-bd7f-fa2a7c0eabf8",
   "metadata": {},
   "outputs": [],
   "source": []
  }
 ],
 "metadata": {
  "kernelspec": {
   "display_name": "Python 3 (ipykernel)",
   "language": "python",
   "name": "python3"
  },
  "language_info": {
   "codemirror_mode": {
    "name": "ipython",
    "version": 3
   },
   "file_extension": ".py",
   "mimetype": "text/x-python",
   "name": "python",
   "nbconvert_exporter": "python",
   "pygments_lexer": "ipython3",
   "version": "3.12.4"
  }
 },
 "nbformat": 4,
 "nbformat_minor": 5
}
